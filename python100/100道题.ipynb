{
 "cells": [
  {
   "cell_type": "code",
   "execution_count": null,
   "metadata": {},
   "outputs": [],
   "source": [
    "#### 有四个数字：1、2、3、4，能组成多少个互不相同且无重复数字的三位数？各是多少？\n",
    "list_num = [1,2,3,4]\n",
    "list  = [i*100 + j*10 + k for i in list_num for j in list_num for k in list_num if (j != i and k != j and k != i)]\n",
    "print (list)"
   ]
  },
  {
   "cell_type": "code",
   "execution_count": null,
   "metadata": {},
   "outputs": [],
   "source": [
    "line=[]\n",
    "for i in range(123,433):\n",
    "    a=i%10\n",
    "    b=(i%100)//10\n",
    "    c=(i%1000)//100\n",
    "    if a!=b and b!=c and a!=c  and 0<a<5 and 0<b<5 and 0<c<5 :\n",
    "        print (i)\n",
    "        line.append(i)\n",
    "print('the total is :',len(line))\n",
    "from itertools import permutations\n",
    "for i in permutations([1, 2, 3, 4], 3):\n",
    "    print(i)"
   ]
  },
  {
   "cell_type": "code",
   "execution_count": 8,
   "metadata": {},
   "outputs": [
    {
     "name": "stdout",
     "output_type": "stream",
     "text": [
      "123\n124\n132\n134\n142\n143\n213\n214\n231\n234\n241\n243\n312\n314\n321\n324\n341\n342\n412\n413\n421\n423\n431\n432\n"
     ]
    }
   ],
   "source": [
    "from itertools import permutations\n",
    "for i in permutations('1234',3):\n",
    "    print(''.join(i))"
   ]
  },
  {
   "cell_type": "code",
   "execution_count": 14,
   "metadata": {},
   "outputs": [
    {
     "data": {
      "text/plain": [
       "2"
      ]
     },
     "execution_count": 14,
     "metadata": {},
     "output_type": "execute_result"
    }
   ],
   "source": [
    "num=9\n",
    "num >> 2&3"
   ]
  },
  {
   "cell_type": "code",
   "execution_count": 15,
   "metadata": {},
   "outputs": [
    {
     "name": "stdout",
     "output_type": "stream",
     "text": [
      "1 2 3\n1 2 4\n1 3 2\n1 3 4\n1 4 2\n1 4 3\n2 1 3\n2 1 4\n2 3 1\n2 3 4\n2 4 1\n2 4 3\n3 1 2\n3 1 4\n3 2 1\n3 2 4\n3 4 1\n3 4 2\n4 1 2\n4 1 3\n4 2 1\n4 2 3\n4 3 1\n4 3 2\n"
     ]
    }
   ],
   "source": [
    "#!/usr/bin/python3\n",
    "\n",
    "for i in range(1, 5):\n",
    "    for j in range(1, 5):\n",
    "        if (j==i) :\n",
    "            continue\n",
    "        for k in range(1, 5):\n",
    "            if (k==i or k==j):\n",
    "                continue\n",
    "            print(i,j,k)"
   ]
  },
  {
   "cell_type": "code",
   "execution_count": 16,
   "metadata": {},
   "outputs": [
    {
     "name": "stdout",
     "output_type": "stream",
     "text": [
      "123\n124\n132\n134\n142\n143\n213\n214\n231\n234\n241\n243\n312\n314\n321\n324\n341\n342\n412\n413\n421\n423\n431\n432\n不重复的数量有:24\n"
     ]
    }
   ],
   "source": [
    "from itertools import permutations\n",
    "t = 0\n",
    "for i in permutations('1234',3):\n",
    "    print(''.join(i))\n",
    "    t += 1\n",
    "\n",
    "print(\"不重复的数量有:%s\"%t)"
   ]
  },
  {
   "cell_type": "code",
   "execution_count": 1,
   "metadata": {},
   "outputs": [
    {
     "ename": "SyntaxError",
     "evalue": "Missing parentheses in call to 'print'. Did you mean print(int 'data error')? (<ipython-input-1-3c9e28d5645f>, line 8)",
     "traceback": [
      "\u001b[0;36m  File \u001b[0;32m\"<ipython-input-1-3c9e28d5645f>\"\u001b[0;36m, line \u001b[0;32m8\u001b[0m\n\u001b[0;31m    print 'data error'\u001b[0m\n\u001b[0m                     ^\u001b[0m\n\u001b[0;31mSyntaxError\u001b[0m\u001b[0;31m:\u001b[0m Missing parentheses in call to 'print'. Did you mean print(int 'data error')?\n"
     ],
     "output_type": "error"
    }
   ],
   "source": [
    "year = int(input('year'))\n",
    "month = int ( input('month'))\n",
    "day = int (input('day'))\n",
    "months = (0,31,59,90,120,151,181,212,243,273,304,334)\n",
    "if 0 < month <= 12:\n",
    "    sum = months[month - 1]\n",
    "else:\n",
    "    print 'data error'\n",
    "sum += day\n",
    "leap = 0\n",
    "if (year % 400 == 0) or ((year % 4 == 0) and (year % 100 != 0)):\n",
    "    leap = 1\n",
    "if (leap == 1) and (month > 2):\n",
    "    sum += 1\n",
    "print ('it is the %dth day.' % sum)"
   ]
  },
  {
   "cell_type": "code",
   "execution_count": 4,
   "metadata": {},
   "outputs": [
    {
     "name": "stdout",
     "output_type": "stream",
     "text": [
      "1\n"
     ]
    }
   ],
   "source": [
    "a = 1\n",
    "def fun(a):\n",
    "    a = 2\n",
    "print (a)"
   ]
  },
  {
   "cell_type": "code",
   "execution_count": 7,
   "metadata": {},
   "outputs": [
    {
     "name": "stdout",
     "output_type": "stream",
     "text": [
      "[]\n"
     ]
    }
   ],
   "source": [
    "a = []\n",
    "def fun(a):\n",
    "    a.append(1)\n",
    "print (a)"
   ]
  },
  {
   "cell_type": "code",
   "execution_count": 11,
   "metadata": {},
   "outputs": [
    {
     "name": "stdout",
     "output_type": "stream",
     "text": [
      "[]\n"
     ]
    }
   ],
   "source": [
    "c = []\n",
    "def fun(c):\n",
    "    a.append(1)\n",
    "print (list(c))"
   ]
  },
  {
   "cell_type": "code",
   "execution_count": 14,
   "metadata": {},
   "outputs": [
    {
     "name": "stdout",
     "output_type": "stream",
     "text": [
      "world!\n{'_Myclass__superprivate': 'hello', '_semiprivate': 'world!'}\n"
     ]
    }
   ],
   "source": [
    "class Myclass():\n",
    "    def __init__(self):\n",
    "        self.__superprivate = 'hello'\n",
    "        self._semiprivate = 'world!'\n",
    "mc = Myclass()\n",
    "##print(mc.__superprivare)\n",
    "print(mc._semiprivate)\n",
    "print(mc.__dict__)"
   ]
  },
  {
   "cell_type": "code",
   "execution_count": 15,
   "metadata": {},
   "outputs": [
    {
     "name": "stdout",
     "output_type": "stream",
     "text": [
      "0. apple\n1. banana\n2. cabbage\n"
     ]
    }
   ],
   "source": [
    "def print_everything(*args):\n",
    "    for count, thing in enumerate(args):\n",
    "        print ('{0}. {1}'.format(count, thing))\n",
    "print_everything('apple', 'banana', 'cabbage')"
   ]
  },
  {
   "cell_type": "code",
   "execution_count": 16,
   "metadata": {},
   "outputs": [
    {
     "name": "stdout",
     "output_type": "stream",
     "text": [
      "apple = fruit\ncabbage = vegetable\n"
     ]
    }
   ],
   "source": [
    "def table_things(**kwargs):\n",
    "    for name, value in kwargs.items():\n",
    "        print ('{0} = {1}'.format(name, value))\n",
    "table_things(apple = 'fruit', cabbage = 'vegetable')"
   ]
  },
  {
   "cell_type": "code",
   "execution_count": 19,
   "metadata": {},
   "outputs": [
    {
     "name": "stdout",
     "output_type": "stream",
     "text": [
      "a= apple b= orange c=banana\n"
     ]
    }
   ],
   "source": [
    "def printThreeeThings(a,b,c):\n",
    "    print('a= {0} b= {1} c={2}'.format(a,b,c))\n",
    "my_list=['apple','orange','banana']\n",
    "printThreeeThings(*my_list)"
   ]
  },
  {
   "cell_type": "code",
   "execution_count": 28,
   "metadata": {},
   "outputs": [
    {
     "name": "stdout",
     "output_type": "stream",
     "text": [
      "---ham---\n</......\n#tomatoes \n---ham---\n....salad\n......\\>\n"
     ]
    }
   ],
   "source": [
    "def bread(func):\n",
    "    def wrapper():\n",
    "        print(\"</......\")\n",
    "        func()\n",
    "        print(\"......\\>\")\n",
    "    return wrapper\n",
    "def ingredients(func):\n",
    "    def wrapper():\n",
    "        print(\"#tomatoes \")\n",
    "        func()\n",
    "        print(\"....salad\")\n",
    "    return wrapper\n",
    "def sandwich(food = \"---ham---\"):\n",
    "    print(food)\n",
    "sandwich()\n",
    "sandwich = bread(ingredients(sandwich))\n",
    "sandwich()"
   ]
  },
  {
   "cell_type": "code",
   "execution_count": 31,
   "metadata": {},
   "outputs": [
    {
     "name": "stdout",
     "output_type": "stream",
     "text": [
      "#tomatoes \n</......\n--ham--\n......\\>\n....salad\n"
     ]
    }
   ],
   "source": [
    "@ingredients\n",
    "@bread\n",
    "def sandwich(food=\"--ham--\"):\n",
    "    print(food)\n",
    "sandwich()\n"
   ]
  },
  {
   "cell_type": "code",
   "execution_count": 32,
   "metadata": {},
   "outputs": [],
   "source": [
    "fib = lambda n:1 if n <= 2 else fib(n-1)+fib(n-2)"
   ]
  },
  {
   "cell_type": "code",
   "execution_count": 33,
   "metadata": {},
   "outputs": [
    {
     "data": {
      "text/plain": [
       "8"
      ]
     },
     "execution_count": 33,
     "metadata": {},
     "output_type": "execute_result"
    }
   ],
   "source": [
    "fib(6)"
   ]
  },
  {
   "cell_type": "code",
   "execution_count": 35,
   "metadata": {},
   "outputs": [
    {
     "name": "stdout",
     "output_type": "stream",
     "text": [
      "144\n"
     ]
    }
   ],
   "source": [
    "def fib(n):\n",
    "    a,b=0,1\n",
    "    while (a<n):\n",
    "        a,b=b,a+b\n",
    "    print(a)\n",
    "fib(100)"
   ]
  },
  {
   "cell_type": "code",
   "execution_count": 38,
   "metadata": {},
   "outputs": [],
   "source": [
    "def memodecoration(func):\n",
    "    cache={}\n",
    "    def wrapper(*args):\n",
    "        if args not in cache:\n",
    "            cache[args]=func(*args)\n",
    "        return cache(args)\n",
    "    return wrapper\n",
    "@memodecoration\n",
    "def fib(i):\n",
    "    if i < 2:\n",
    "        return 1\n",
    "    else:\n",
    "        return fib(i-1)+fib(i-2)\n",
    "        "
   ]
  },
  {
   "cell_type": "code",
   "execution_count": 39,
   "metadata": {},
   "outputs": [],
   "source": [
    "f = lambda n: 1 if n<2 else f(n-1)+f(n-2)"
   ]
  },
  {
   "cell_type": "code",
   "execution_count": 40,
   "metadata": {},
   "outputs": [
    {
     "data": {
      "text/plain": [
       "89"
      ]
     },
     "execution_count": 40,
     "metadata": {},
     "output_type": "execute_result"
    }
   ],
   "source": [
    "f(10)"
   ]
  },
  {
   "cell_type": "code",
   "execution_count": 14,
   "metadata": {},
   "outputs": [
    {
     "name": "stdout",
     "output_type": "stream",
     "text": [
      "dict_keys(['b', 'c', 'd', 'a'])\n"
     ]
    }
   ],
   "source": [
    "l1 = ['b','c','d','b','c','a','a']\n",
    "l2 = {}.fromkeys(l1).keys()\n",
    "print (l2)"
   ]
  },
  {
   "cell_type": "code",
   "execution_count": 42,
   "metadata": {},
   "outputs": [
    {
     "data": {
      "text/plain": [
       "['c', 'a', 'b', 'd']"
      ]
     },
     "execution_count": 42,
     "metadata": {},
     "output_type": "execute_result"
    }
   ],
   "source": [
    "list(set(l1))"
   ]
  },
  {
   "cell_type": "code",
   "execution_count": 43,
   "metadata": {},
   "outputs": [
    {
     "data": {
      "text/plain": [
       "['b', 'c', 'd', 'a']"
      ]
     },
     "execution_count": 43,
     "metadata": {},
     "output_type": "execute_result"
    }
   ],
   "source": [
    "list(l2)"
   ]
  },
  {
   "cell_type": "code",
   "execution_count": 45,
   "metadata": {},
   "outputs": [
    {
     "name": "stdout",
     "output_type": "stream",
     "text": [
      "['b', 'c', 'd', 'a']\n"
     ]
    }
   ],
   "source": [
    "l3 = ['b','c','d','b','c','a','a']\n",
    "l4 = list(set(l3))\n",
    "l4.sort(key=l3.index)\n",
    "print (l4)"
   ]
  },
  {
   "cell_type": "code",
   "execution_count": 18,
   "metadata": {},
   "outputs": [
    {
     "name": "stdout",
     "output_type": "stream",
     "text": [
      "dict_keys(['b', 'c', 'd', 'a'])\n"
     ]
    }
   ],
   "source": [
    "l1 = ['b','c','d','b','c','a','a']\n",
    "l2 = {}.fromkeys(l1).keys()\n",
    "#[l2.append(i) for i in l1 if not i in l2]\n",
    "print(l2)"
   ]
  },
  {
   "cell_type": "code",
   "execution_count": 48,
   "metadata": {},
   "outputs": [],
   "source": [
    "class ListNode:\n",
    "    def __init__(self,x):\n",
    "        self.val = x\n",
    "        self.next = None\n",
    "class Solution:\n",
    "    def swapPairs(self,head):\n",
    "        if head != None and head.next != None:\n",
    "            next = head.next\n",
    "            head.next = swapPairs(next.next)\n",
    "            next.next = head\n",
    "            return next\n",
    "        return head"
   ]
  },
  {
   "cell_type": "code",
   "execution_count": 49,
   "metadata": {},
   "outputs": [
    {
     "data": {
      "text/plain": [
       "156.6"
      ]
     },
     "execution_count": 49,
     "metadata": {},
     "output_type": "execute_result"
    }
   ],
   "source": [
    "32.8+16.8+60.2+46.8"
   ]
  },
  {
   "cell_type": "code",
   "execution_count": 50,
   "metadata": {},
   "outputs": [
    {
     "data": {
      "text/plain": [
       "78.3"
      ]
     },
     "execution_count": 50,
     "metadata": {},
     "output_type": "execute_result"
    }
   ],
   "source": [
    "156.6/2"
   ]
  },
  {
   "cell_type": "code",
   "execution_count": 52,
   "metadata": {},
   "outputs": [],
   "source": [
    "dict1={}.fromkeys(('x','y'),(-1,-2))"
   ]
  },
  {
   "cell_type": "code",
   "execution_count": 53,
   "metadata": {},
   "outputs": [
    {
     "data": {
      "text/plain": [
       "{'x': (-1, -2), 'y': (-1, -2)}"
      ]
     },
     "execution_count": 53,
     "metadata": {},
     "output_type": "execute_result"
    }
   ],
   "source": [
    "dict1"
   ]
  },
  {
   "cell_type": "code",
   "execution_count": 54,
   "metadata": {},
   "outputs": [],
   "source": [
    "dict2={}.fromkeys(('x','y'),('-1','-2'))"
   ]
  },
  {
   "cell_type": "code",
   "execution_count": 55,
   "metadata": {},
   "outputs": [
    {
     "data": {
      "text/plain": [
       "{'x': ('-1', '-2'), 'y': ('-1', '-2')}"
      ]
     },
     "execution_count": 55,
     "metadata": {},
     "output_type": "execute_result"
    }
   ],
   "source": [
    "dict2"
   ]
  },
  {
   "cell_type": "code",
   "execution_count": 56,
   "metadata": {},
   "outputs": [],
   "source": [
    "def recursionmerge(l1,l2,tmp):\n",
    "    if len(l1) == 0 or len(l2) == 0:\n",
    "        tmp.extend(l1)\n",
    "        tmp.extend(l2)\n",
    "        return tmp\n",
    "    else:\n",
    "        if l1[0]<l2[0]:\n",
    "            tmp.append(l1[0])\n",
    "            del l1[0]\n",
    "        else:\n",
    "            tmp.append(l2[0])\n",
    "            del l2[0]\n",
    "        return recursionmerge(l1,l2,tmp)\n",
    "            \n",
    "def loop_merge_sort(l1,l2):\n",
    "    tmp=[]\n",
    "    while len(l1)>0 and len(l2)>0:\n",
    "        if l1[0] < l2[0]:\n",
    "            tmp.append(l1[0])\n",
    "            del l1[0]\n",
    "        else:\n",
    "            tmp.append(l2[0])\n",
    "            del l2[0]\n",
    "    tmp.extend(l1)\n",
    "    tmp.extend(l2)\n",
    "    return tmp"
   ]
  },
  {
   "cell_type": "code",
   "execution_count": 58,
   "metadata": {},
   "outputs": [],
   "source": [
    "class ListNode:\n",
    "    def __init__(self, x):\n",
    "        self.val = x\n",
    "        self.next = None\n",
    "def node(l1, l2):\n",
    "    length1, lenth2 = 0, 0\n",
    "    # 求两个链表长度\n",
    "    while l1.next:\n",
    "        l1 = l1.next\n",
    "        length1 += 1\n",
    "    while l2.next:\n",
    "        l2 = l2.next\n",
    "        length2 += 1\n",
    "    # 长的链表先走\n",
    "    if length1 > lenth2:\n",
    "        for _ in range(length1 - length2):\n",
    "            l1 = l1.next\n",
    "    else:\n",
    "        for _ in range(length2 - length1):\n",
    "            l2 = l2.next\n",
    "    while l1 and l2:\n",
    "        if l1.next == l2.next:\n",
    "            return l1.next\n",
    "        else:\n",
    "            l1 = l1.next\n",
    "            l2 = l2.next"
   ]
  },
  {
   "cell_type": "code",
   "execution_count": 9,
   "metadata": {},
   "outputs": [],
   "source": [
    "def binarySearch(l,t):\n",
    "    low,high = 0,len(1)-1\n",
    "    while low <= high:\n",
    "        print(low,high)\n",
    "        mid = (low + high)//2\n",
    "        if l[mid]>t:\n",
    "            high=mid-1\n",
    "        elif l[mid]<t:\n",
    "            low = mid+1\n",
    "        else:\n",
    "            return mid\n",
    "    return False\n",
    "            "
   ]
  },
  {
   "cell_type": "code",
   "execution_count": null,
   "metadata": {},
   "outputs": [],
   "source": []
  }
 ],
 "metadata": {
  "kernelspec": {
   "display_name": "Python 2",
   "language": "python",
   "name": "python2"
  },
  "language_info": {
   "codemirror_mode": {
    "name": "ipython",
    "version": 2
   },
   "file_extension": ".py",
   "mimetype": "text/x-python",
   "name": "python",
   "nbconvert_exporter": "python",
   "pygments_lexer": "ipython2",
   "version": "2.7.6"
  }
 },
 "nbformat": 4,
 "nbformat_minor": 0
}
