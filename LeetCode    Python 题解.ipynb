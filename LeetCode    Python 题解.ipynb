{
 "cells": [
  {
   "cell_type": "markdown",
   "metadata": {},
   "source": [
    "# 1.给一个int型数组，要求找出其中两个和为特定值的数的坐标。\n",
    "注意点：\n",
    "返回的坐标一要比坐标二小\n",
    "最小的坐标是1，不是0\n",
    "例子：\n",
    "输入: numbers={2, 7, 11, 15}, target=9 输出: index1=1, index2=2"
   ]
  },
  {
   "cell_type": "code",
   "execution_count": 15,
   "metadata": {
    "collapsed": false
   },
   "outputs": [
    {
     "name": "stdout",
     "output_type": "stream",
     "text": [
      "[[1, 2], [6, 7]]\n"
     ]
    }
   ],
   "source": [
    "class Solve(object):\n",
    "    def twosum(self,nums,target):\n",
    "        hash_map = {}\n",
    "        listresult=[]\n",
    "        for index,value in enumerate(nums):\n",
    "            hash_map[value]=index\n",
    "        for index1,value1 in enumerate(nums):\n",
    "            if target-value1 in hash_map:\n",
    "                index2 = hash_map[target-value1]\n",
    "                if (index1 != index2) and (index1<index2):\n",
    "                    listresult.append([index1+1,index2+1])\n",
    "        return listresult\n",
    "if __name__ == \"__main__\":\n",
    "    print(Solve().twosum([2,7,9,11,15,3,6],9))  "
   ]
  },
  {
   "cell_type": "markdown",
   "metadata": {},
   "source": [
    "## 2.给定两个链表，求和按指定形式输出。\n",
    "代表两个数，高位在末尾，表头为高位，如1-2-3表示321如输入2-4-3，5-6-4，输出为342+465=807，所以输出结果为7-0-8"
   ]
  },
  {
   "cell_type": "code",
   "execution_count": 28,
   "metadata": {
    "collapsed": false
   },
   "outputs": [
    {
     "name": "stdout",
     "output_type": "stream",
     "text": [
      "2\n",
      "4\n",
      "3\n",
      "5\n",
      "6\n",
      "4\n",
      "7\n",
      "7\n",
      "1\n",
      "None\n"
     ]
    }
   ],
   "source": [
    "class listnode(object):\n",
    "    def __init__(self,x):\n",
    "        self.val = x\n",
    "        self.next = None   \n",
    "    def myPrint(self):\n",
    "        print(self.val)\n",
    "        if self.next:\n",
    "            self.next.myPrint()\n",
    "            \n",
    "class solution(object):\n",
    "    def addTwoNumbers(self,l1,l2):\n",
    "        result = listnode(0)\n",
    "        cur = result\n",
    "        while l1 or l2:\n",
    "            cur.val += self.addTwoNodes(l1,l2)\n",
    "            if cur.val >= 10:\n",
    "                cur.val -= 10\n",
    "                cur.next = listnode(1)\n",
    "            else:\n",
    "                if l1 and l1.next or l2 and l2.next:\n",
    "                    cur.next = listnode(0)\n",
    "                    cur = cur.next\n",
    "            if l1:\n",
    "                l1 = l1.next\n",
    "            if l2:\n",
    "                l2 = l2.next\n",
    "        return result\n",
    "    def addTwoNodes(self,l1,l2):\n",
    "        if not l1:\n",
    "            return l2.val\n",
    "        if not l2:\n",
    "            return l1.val\n",
    "        return l1.val+l2.val\n",
    "if __name__ == \"__main__\":\n",
    "    list1 = listnode(2)\n",
    "    list1.next = listnode(4)\n",
    "    list1.next.next = listnode(3)\n",
    "    \n",
    "    list2 = listnode(5)\n",
    "    list2.next = listnode(6)\n",
    "    list2.next.next = listnode(4)\n",
    "    \n",
    "    list1.myPrint()\n",
    "    list2.myPrint()\n",
    "    \n",
    "    print(solution().addTwoNumbers(list1,list2).myPrint())"
   ]
  },
  {
   "cell_type": "code",
   "execution_count": null,
   "metadata": {
    "collapsed": true
   },
   "outputs": [],
   "source": []
  },
  {
   "cell_type": "code",
   "execution_count": null,
   "metadata": {
    "collapsed": true
   },
   "outputs": [],
   "source": []
  }
 ],
 "metadata": {
  "anaconda-cloud": {},
  "kernelspec": {
   "display_name": "Python [conda root]",
   "language": "python",
   "name": "conda-root-py"
  },
  "language_info": {
   "codemirror_mode": {
    "name": "ipython",
    "version": 3
   },
   "file_extension": ".py",
   "mimetype": "text/x-python",
   "name": "python",
   "nbconvert_exporter": "python",
   "pygments_lexer": "ipython3",
   "version": "3.5.2"
  }
 },
 "nbformat": 4,
 "nbformat_minor": 1
}
